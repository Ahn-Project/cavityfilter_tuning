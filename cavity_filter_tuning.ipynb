{
  "nbformat": 4,
  "nbformat_minor": 0,
  "metadata": {
    "colab": {
      "name": "rftest.ipynb",
      "provenance": []
    },
    "kernelspec": {
      "name": "python3",
      "display_name": "Python 3"
    },
    "accelerator": "GPU"
  },
  "cells": [
    {
      "cell_type": "code",
      "metadata": {
        "id": "uLKuGEem7MeZ"
      },
      "source": [
        "import numpy as np\n",
        "import matplotlib.pyplot as plt\n",
        "from sklearn.preprocessing import minmax_scale"
      ],
      "execution_count": 2,
      "outputs": []
    },
    {
      "cell_type": "code",
      "metadata": {
        "colab": {
          "base_uri": "https://localhost:8080/"
        },
        "id": "HyUbpidh7MYS",
        "outputId": "3c35b896-bfda-4b43-82c0-2b3a95b5d17e"
      },
      "source": [
        "# 독립변인 만들기\n",
        "factors_plus = np.arange(1,2,0.2)   # 양의 상관관계 : 높이가 클수록 원하는 결과 도출\n",
        "factors_minus = np.arange(1,2,0.2)  # 음의 상관관계 : 높이가 낮을수록 원하는 결과 도출\n",
        "\n",
        "factors = []\n",
        "iteration = 500     # 파라미터 조정 횟수\n",
        "for _ in range(iteration):\n",
        "    factors_plus += 0.001   # 회당 파라미터 조정\n",
        "    factors_minus -= 0.001  # 회당 파라미터 조정\n",
        "\n",
        "    factor_concat = np.hstack([factors_plus, factors_minus])    # 모든 파라미터 병합\n",
        "    factors.append(factor_concat)\n",
        "\n",
        "factors = np.array(factors)\n",
        "print(factors.shape)"
      ],
      "execution_count": 3,
      "outputs": [
        {
          "output_type": "stream",
          "text": [
            "(500, 10)\n"
          ],
          "name": "stdout"
        }
      ]
    },
    {
      "cell_type": "code",
      "metadata": {
        "colab": {
          "base_uri": "https://localhost:8080/"
        },
        "id": "8UahX45-7MRV",
        "outputId": "ace3b6bb-9ae4-43f5-e4c1-f08da72772f9"
      },
      "source": [
        "# 종속변인 만들기\n",
        "x_start = -2.5\n",
        "x_end = 2.1\n",
        "\n",
        "freq = [x for x in np.arange(x_start, x_end, 0.1)]\n",
        "f = [(2*(x ** 4)) + (x ** 3) + (-8 * (x ** 2)) + 12 for x in np.arange(x_start, x_end, 0.1)]\n",
        "result_scaled = minmax_scale(f)\n",
        "\n",
        "observations = []\n",
        "for alpha in np.arange(0.5, 1, 0.1):\n",
        "    for _ in range(100):\n",
        "        error = np.random.rand(len(f)) * alpha\n",
        "        observation = result_scaled + error\n",
        "        observations.append(observation)\n",
        "\n",
        "observations = np.array(observations)\n",
        "print(observations.shape)\n"
      ],
      "execution_count": 4,
      "outputs": [
        {
          "output_type": "stream",
          "text": [
            "(500, 46)\n"
          ],
          "name": "stdout"
        }
      ]
    },
    {
      "cell_type": "code",
      "metadata": {
        "colab": {
          "base_uri": "https://localhost:8080/"
        },
        "id": "QPbS_8nU7MKU",
        "outputId": "a5ca1f27-5df4-4510-ad1d-cbd6a15ea919"
      },
      "source": [
        "# 독립변인과 종속변인 병합 (for shuffling)\n",
        "dataset = np.hstack([factors, observations])\n",
        "print(dataset.shape)"
      ],
      "execution_count": 5,
      "outputs": [
        {
          "output_type": "stream",
          "text": [
            "(500, 56)\n"
          ],
          "name": "stdout"
        }
      ]
    },
    {
      "cell_type": "code",
      "metadata": {
        "colab": {
          "base_uri": "https://localhost:8080/"
        },
        "id": "mp-zpSeE7L9G",
        "outputId": "70f1c8cd-0796-430c-8df5-2dbd7d2e7c01"
      },
      "source": [
        "# 셔플링 (for 정상적인 학습)\n",
        "dataset_shuffled = dataset.copy()\n",
        "np.random.shuffle(dataset_shuffled)\n",
        "\n",
        "inputs = dataset_shuffled[:, :10]\n",
        "labels = dataset_shuffled[:, 10:]\n",
        "print(inputs.shape)\n",
        "print(labels.shape)\n"
      ],
      "execution_count": 6,
      "outputs": [
        {
          "output_type": "stream",
          "text": [
            "(500, 10)\n",
            "(500, 46)\n"
          ],
          "name": "stdout"
        }
      ]
    },
    {
      "cell_type": "code",
      "metadata": {
        "id": "W5kd7sNC7VeA"
      },
      "source": [
        "# 임계값 만들기\n",
        "def threshold():\n",
        "    ty1 = np.arange(0.6, 1.5, 0.1)\n",
        "    tx1 = np.array([-2] * len(ty1))\n",
        "    tx2 = np.arange(-2, -1, 0.1)\n",
        "    ty2 = np.array([0.6] * len(tx2))\n",
        "    ty3 = ty1.copy()\n",
        "    tx3 = np.array([-1] * len(ty3))\n",
        "\n",
        "    ty4 = np.arange(0.8, 1.5, 0.1)\n",
        "    tx4 = np.array([1] * len(ty4))\n",
        "    tx5 = np.arange(1, 1.5, 0.1)\n",
        "    ty5 = np.array([0.8] * len(tx5))\n",
        "    ty6 = ty4.copy()\n",
        "    tx6 = np.array([1.5] * len(ty6))\n",
        "\n",
        "    tx = [np.hstack([tx1, tx2, tx3]), np.hstack([tx4, tx5, tx6])]\n",
        "    ty = [np.hstack([ty1, ty2, ty3]), np.hstack([ty4, ty5, ty6])]\n",
        "    return tx, ty"
      ],
      "execution_count": 7,
      "outputs": []
    },
    {
      "cell_type": "code",
      "metadata": {
        "id": "ujw26ATk7VVk"
      },
      "source": [
        "# https://tutorials.pytorch.kr/beginner/pytorch_with_examples.html\n",
        "# 모델 정의\n",
        "import torch\n",
        "from torch import nn\n",
        "\n",
        "# Numpy의 ndarray를 파이토치의 텐서로 변환\n",
        "X = torch.tensor(inputs, dtype=torch.float32)\n",
        "Y = torch.tensor(labels, dtype=torch.float32)\n",
        "\n",
        "# N은 배치 크기; D_in은 입력의 차원; D_out은 출력 차원\n",
        "N, D_in, D_out = 64, len(inputs[0]), len(labels[0])\n",
        "\n",
        "# 모델 정의\n",
        "model = nn.Sequential(\n",
        "    nn.Linear(D_in, 100),\n",
        "    nn.ReLU(),\n",
        "    nn.Linear(100, 32),\n",
        "    nn.ReLU(),\n",
        "    nn.Linear(32, D_out)\n",
        ")\n",
        "\n",
        "# 손실함수 정의\n",
        "loss_fn = torch.nn.MSELoss(reduction='sum')\n",
        "\n",
        "# optim 패키지를 사용하여 모델의 가중치를 갱신할 Optimizer를 정의합니다.\n",
        "# 여기서는 Adam을 사용하겠습니다; optim 패키지는 다른 다양한 최적화 알고리즘을\n",
        "# 포함하고 있습니다. Adam 생성자의 첫번째 인자는 어떤 Tensor가 갱신되어야 하는지\n",
        "# 알려줍니다.\n",
        "learning_rate = 1e-3\n",
        "optimizer = torch.optim.Adam(model.parameters(), lr=learning_rate)"
      ],
      "execution_count": 9,
      "outputs": []
    },
    {
      "cell_type": "code",
      "metadata": {
        "colab": {
          "base_uri": "https://localhost:8080/"
        },
        "id": "APpgxlty7VPK",
        "outputId": "34f23eda-a79f-4666-e507-d1f3493f01fe"
      },
      "source": [
        "# 모델 학습\n",
        "num_epochs = 200\n",
        "losses = []\n",
        "for epoch in range(num_epochs):\n",
        "    # 순전파 단계: 모델에 x를 전달하여 예상되는 y 값을 계산합니다.\n",
        "    y_pred = model(X)\n",
        "\n",
        "    # 손실을 계산하고 출력합니다.\n",
        "    loss = loss_fn(y_pred, Y)\n",
        "    if epoch % 10 == 0:\n",
        "        print(epoch, loss.item())\n",
        "\n",
        "    losses.append(loss.item())\n",
        "    # 역전파 단계 전에, Optimizer 객체를 사용하여 (모델의 학습 가능한 가중치인)\n",
        "    # 갱신할 변수들에 대한 모든 변화도를 0으로 만듭니다. 이렇게 하는 이유는\n",
        "    # 기본적으로 .backward()를 호출할 때마다 변화도가 버퍼(buffer)에 (덮어쓰지 않고)\n",
        "    # 누적되기 때문입니다. 더 자세한 내용은 torch.autograd.backward에 대한 문서를\n",
        "    # 참조하세요.\n",
        "    optimizer.zero_grad()\n",
        "\n",
        "    # 역전파 단계: 모델의 매개변수에 대한 손실의 변화도를 계산합니다.\n",
        "    loss.backward()\n",
        "\n",
        "    # Optimizer의 step 함수를 호출하면 매개변수가 갱신됩니다.\n",
        "    optimizer.step()\n"
      ],
      "execution_count": 10,
      "outputs": [
        {
          "output_type": "stream",
          "text": [
            "0 14983.5244140625\n",
            "10 11263.662109375\n",
            "20 7948.8447265625\n",
            "30 4663.10546875\n",
            "40 2518.38671875\n",
            "50 1509.855224609375\n",
            "60 1161.6456298828125\n",
            "70 1077.6134033203125\n",
            "80 1056.3402099609375\n",
            "90 1042.1978759765625\n",
            "100 1031.443359375\n",
            "110 1023.5775146484375\n",
            "120 1017.6360473632812\n",
            "130 1013.0045166015625\n",
            "140 1009.3265991210938\n",
            "150 1006.4345703125\n",
            "160 1004.2107543945312\n",
            "170 1002.506591796875\n",
            "180 1001.1958618164062\n",
            "190 1000.166259765625\n"
          ],
          "name": "stdout"
        }
      ]
    },
    {
      "cell_type": "code",
      "metadata": {
        "colab": {
          "base_uri": "https://localhost:8080/",
          "height": 282
        },
        "id": "G3sPQSPU7ziG",
        "outputId": "7a63856a-0e99-481c-e19d-1e74f2ed9dad"
      },
      "source": [
        "# loss 그래프\n",
        "plt.plot(losses)"
      ],
      "execution_count": 11,
      "outputs": [
        {
          "output_type": "execute_result",
          "data": {
            "text/plain": [
              "[<matplotlib.lines.Line2D at 0x7f872c440f28>]"
            ]
          },
          "metadata": {
            "tags": []
          },
          "execution_count": 11
        },
        {
          "output_type": "display_data",
          "data": {
            "image/png": "[encoded data removed]",
            "text/plain": [
              "<Figure size 432x288 with 1 Axes>"
            ]
          },
          "metadata": {
            "tags": [],
            "needs_background": "light"
          }
        }
      ]
    },
    {
      "cell_type": "code",
      "metadata": {
        "colab": {
          "base_uri": "https://localhost:8080/",
          "height": 282
        },
        "id": "q2ziV_uR7HYK",
        "outputId": "f8420841-68dd-4439-c0ea-7d9fc024e436"
      },
      "source": [
        "# 예측\n",
        "tx, ty = threshold()\n",
        "for i, x, y in zip(range(2), tx, ty):\n",
        "    if i == 0:\n",
        "        plt.plot(x, y, color = 'black', label='threshold')\n",
        "    else:\n",
        "        plt.plot(x, y, color='black')\n",
        "\n",
        "model.eval()\n",
        "pred = model(X[0]).detach().numpy()\n",
        "plt.plot(freq, labels[0], label='observation')\n",
        "plt.plot(freq, pred, label='prediction')\n",
        "plt.legend()"
      ],
      "execution_count": 12,
      "outputs": [
        {
          "output_type": "execute_result",
          "data": {
            "text/plain": [
              "<matplotlib.legend.Legend at 0x7f872bf25d68>"
            ]
          },
          "metadata": {
            "tags": []
          },
          "execution_count": 12
        },
        {
          "output_type": "display_data",
          "data": {
            "image/png": "[encoded data removed]",
            "text/plain": [
              "<Figure size 432x288 with 1 Axes>"
            ]
          },
          "metadata": {
            "tags": [],
            "needs_background": "light"
          }
        }
      ]
    },
    {
      "cell_type": "code",
      "metadata": {
        "id": "eEBGUtYi8SYd"
      },
      "source": [
        ""
      ],
      "execution_count": null,
      "outputs": []
    }
  ]
}
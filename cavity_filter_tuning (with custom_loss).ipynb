{
  "nbformat": 4,
  "nbformat_minor": 0,
  "metadata": {
    "colab": {
      "name": "cavity_filter_tuning (Loss 수정).ipynb",
      "provenance": []
    },
    "kernelspec": {
      "name": "python3",
      "display_name": "Python 3"
    },
    "accelerator": "GPU"
  },
  "cells": [
    {
      "cell_type": "code",
      "metadata": {
        "id": "uLKuGEem7MeZ"
      },
      "source": [
        "import numpy as np\n",
        "import matplotlib.pyplot as plt\n",
        "from sklearn.preprocessing import minmax_scale"
      ],
      "execution_count": 11,
      "outputs": []
    },
    {
      "cell_type": "code",
      "metadata": {
        "colab": {
          "base_uri": "https://localhost:8080/"
        },
        "id": "HyUbpidh7MYS",
        "outputId": "7a739030-f1bf-407b-efb9-33fb4ec9fa2e"
      },
      "source": [
        "# 독립변인 만들기\n",
        "factors_plus = np.arange(1,2,0.2)   # 양의 상관관계 : 높이가 클수록 원하는 결과 도출\n",
        "factors_minus = np.arange(1,2,0.2)  # 음의 상관관계 : 높이가 낮을수록 원하는 결과 도출\n",
        "\n",
        "factors = []\n",
        "iteration = 500     # 파라미터 조정 횟수\n",
        "for _ in range(iteration):\n",
        "    factors_plus += 0.001   # 회당 파라미터 조정\n",
        "    factors_minus -= 0.001  # 회당 파라미터 조정\n",
        "\n",
        "    factor_concat = np.hstack([factors_plus, factors_minus])    # 모든 파라미터 병합\n",
        "    factors.append(factor_concat)\n",
        "\n",
        "factors = np.array(factors)\n",
        "print(factors.shape)"
      ],
      "execution_count": 12,
      "outputs": [
        {
          "output_type": "stream",
          "text": [
            "(500, 10)\n"
          ],
          "name": "stdout"
        }
      ]
    },
    {
      "cell_type": "code",
      "metadata": {
        "colab": {
          "base_uri": "https://localhost:8080/"
        },
        "id": "8UahX45-7MRV",
        "outputId": "9519f8a9-06a3-44da-8303-45614f040216"
      },
      "source": [
        "# 종속변인 만들기\n",
        "x_start = -2.5\n",
        "x_end = 2.1\n",
        "\n",
        "freq = [x for x in np.arange(x_start, x_end, 0.1)]\n",
        "f = [(2*(x ** 4)) + (x ** 3) + (-8 * (x ** 2)) + 12 for x in np.arange(x_start, x_end, 0.1)]\n",
        "result_scaled = minmax_scale(f)\n",
        "\n",
        "observations = []\n",
        "for alpha in np.arange(0.5, 1, 0.1):\n",
        "    for _ in range(100):\n",
        "        error = np.random.rand(len(f)) * alpha\n",
        "        observation = result_scaled + error\n",
        "        observations.append(observation)\n",
        "\n",
        "observations = np.array(observations)\n",
        "print(observations.shape)\n"
      ],
      "execution_count": 13,
      "outputs": [
        {
          "output_type": "stream",
          "text": [
            "(500, 46)\n"
          ],
          "name": "stdout"
        }
      ]
    },
    {
      "cell_type": "code",
      "metadata": {
        "colab": {
          "base_uri": "https://localhost:8080/"
        },
        "id": "QPbS_8nU7MKU",
        "outputId": "2952edc2-205f-40f5-b4a0-9a2b42ae76dd"
      },
      "source": [
        "# 독립변인과 종속변인 병합 (for shuffling)\n",
        "dataset = np.hstack([factors, observations])\n",
        "print(dataset.shape)"
      ],
      "execution_count": 14,
      "outputs": [
        {
          "output_type": "stream",
          "text": [
            "(500, 56)\n"
          ],
          "name": "stdout"
        }
      ]
    },
    {
      "cell_type": "code",
      "metadata": {
        "colab": {
          "base_uri": "https://localhost:8080/"
        },
        "id": "mp-zpSeE7L9G",
        "outputId": "724c87f2-e871-43f0-d040-b8dcf08c44a1"
      },
      "source": [
        "# 셔플링 (for 정상적인 학습)\n",
        "dataset_shuffled = dataset.copy()\n",
        "np.random.shuffle(dataset_shuffled)\n",
        "\n",
        "inputs = dataset_shuffled[:, :10]\n",
        "labels = dataset_shuffled[:, 10:]\n",
        "print(inputs.shape)\n",
        "print(labels.shape)\n"
      ],
      "execution_count": 15,
      "outputs": [
        {
          "output_type": "stream",
          "text": [
            "(500, 10)\n",
            "(500, 46)\n"
          ],
          "name": "stdout"
        }
      ]
    },
    {
      "cell_type": "code",
      "metadata": {
        "id": "W5kd7sNC7VeA"
      },
      "source": [
        "# # 임계값 만들기\n",
        "# def threshold():\n",
        "#     ty1 = np.arange(0.6, 1.5, 0.1)\n",
        "#     tx1 = np.array([-2] * len(ty1))\n",
        "#     tx2 = np.arange(-2, -1, 0.1)\n",
        "#     ty2 = np.array([0.6] * len(tx2))\n",
        "#     ty3 = ty1.copy()\n",
        "#     tx3 = np.array([-1] * len(ty3))\n",
        "\n",
        "#     ty4 = np.arange(0.8, 1.5, 0.1)\n",
        "#     tx4 = np.array([1] * len(ty4))\n",
        "#     tx5 = np.arange(1, 1.5, 0.1)\n",
        "#     ty5 = np.array([0.8] * len(tx5))\n",
        "#     ty6 = ty4.copy()\n",
        "#     tx6 = np.array([1.5] * len(ty6))\n",
        "\n",
        "#     tx = [np.hstack([tx1, tx2, tx3]), np.hstack([tx4, tx5, tx6])]\n",
        "#     ty = [np.hstack([ty1, ty2, ty3]), np.hstack([ty4, ty5, ty6])]\n",
        "#     return tx, ty"
      ],
      "execution_count": 16,
      "outputs": []
    },
    {
      "cell_type": "code",
      "metadata": {
        "colab": {
          "base_uri": "https://localhost:8080/",
          "height": 282
        },
        "id": "dmj0f8f8DFTR",
        "outputId": "490a13af-fef7-4e1b-f832-f9e6db8827f0"
      },
      "source": [
        "# 임계값 만들기\n",
        "import scipy\n",
        "\n",
        "def normal_distribution(x_start, x_end, mu, std, intercept):\n",
        "  # xx = np.linspace(-5, 5, 100\n",
        "  X = np.arange(x_start, x_end, 0.1)\n",
        "  rv = scipy.stats.norm(mu, std)\n",
        "  pdf = (rv.pdf(X)*-1) + intercept \n",
        "  return X, pdf\n",
        "\n",
        "X1, pdf1 = normal_distribution(-2.5, 0, -1.5, 0.5, 1.4)\n",
        "X2, pdf2 = normal_distribution(0, 2.1, 1.25, 0.75, 1.4)\n",
        "RV = np.hstack([X1,X2]) # random variable\n",
        "pdf = np.hstack([pdf1,pdf2])  # normal distribution\n",
        "threshold = [RV, pdf]\n",
        "plt.plot(RV, pdf)\n",
        "print(len(RV))"
      ],
      "execution_count": 17,
      "outputs": [
        {
          "output_type": "stream",
          "text": [
            "46\n"
          ],
          "name": "stdout"
        },
        {
          "output_type": "display_data",
          "data": {
            "image/png": "[encoded data removed]",
            "text/plain": [
              "<Figure size 432x288 with 1 Axes>"
            ]
          },
          "metadata": {
            "tags": [],
            "needs_background": "light"
          }
        }
      ]
    },
    {
      "cell_type": "code",
      "metadata": {
        "id": "ujw26ATk7VVk"
      },
      "source": [
        "# https://tutorials.pytorch.kr/beginner/pytorch_with_examples.html\n",
        "# 모델 정의\n",
        "\n",
        "def define_model():\n",
        "  import torch\n",
        "  from torch import nn\n",
        "\n",
        "  # Numpy의 ndarray를 파이토치의 텐서로 변환\n",
        "  X = torch.tensor(inputs, dtype=torch.float32)\n",
        "  Y = torch.tensor(labels, dtype=torch.float32)\n",
        "\n",
        "  # N은 배치 크기; D_in은 입력의 차원; D_out은 출력 차원\n",
        "  N, D_in, D_out = 64, len(inputs[0]), len(labels[0])\n",
        "\n",
        "  # 모델 정의\n",
        "  model = nn.Sequential(\n",
        "      nn.Linear(D_in, 100),\n",
        "      nn.ReLU(),\n",
        "      nn.Linear(100, 32),\n",
        "      nn.ReLU(),\n",
        "      nn.Linear(32, D_out)\n",
        "  )\n",
        "\n",
        "  # optim 패키지를 사용하여 모델의 가중치를 갱신할 Optimizer를 정의합니다.\n",
        "  # 여기서는 Adam을 사용하겠습니다; optim 패키지는 다른 다양한 최적화 알고리즘을\n",
        "  # 포함하고 있습니다. Adam 생성자의 첫번째 인자는 어떤 Tensor가 갱신되어야 하는지\n",
        "  # 알려줍니다.\n",
        "  learning_rate = 1e-3\n",
        "  optimizer = torch.optim.Adam(model.parameters(), lr=learning_rate)\n",
        "  return model, optimizer\n",
        "\n",
        "# 손실함수 정의\n",
        "loss_fn = torch.nn.MSELoss(reduction='sum')\n",
        "def my_loss(output, target):\n",
        "    loss = torch.mean((output - target)**2)\n",
        "    return loss\n",
        "\n",
        "def my_loss2(output, target, threshold):\n",
        "    loss = torch.mean(((output - target)**2) + ((output - threshold)**2))\n",
        "    return loss\n"
      ],
      "execution_count": 61,
      "outputs": []
    },
    {
      "cell_type": "code",
      "metadata": {
        "id": "lqyFarg8t8Xe"
      },
      "source": [
        "# # 모델 학습\n",
        "# num_epochs = 200\n",
        "\n",
        "# losses = []\n",
        "# for epoch in range(num_epochs):\n",
        "#     # 순전파 단계: 모델에 x를 전달하여 예상되는 y 값을 계산합니다.\n",
        "#     y_pred = model(X)\n",
        "\n",
        "#     # 손실을 계산하고 출력합니다.\n",
        "#     # loss = loss_fn(y_pred, Y)\n",
        "#     loss = my_loss(y_pred, Y)\n",
        "#     if epoch % 10 == 0:\n",
        "#         print(epoch, loss.item())\n",
        "\n",
        "#     losses.append(loss.item())\n",
        "#     # 역전파 단계 전에, Optimizer 객체를 사용하여 (모델의 학습 가능한 가중치인)\n",
        "#     # 갱신할 변수들에 대한 모든 변화도를 0으로 만듭니다. 이렇게 하는 이유는\n",
        "#     # 기본적으로 .backward()를 호출할 때마다 변화도가 버퍼(buffer)에 (덮어쓰지 않고)\n",
        "#     # 누적되기 때문입니다. 더 자세한 내용은 torch.autograd.backward에 대한 문서를\n",
        "#     # 참조하세요.\n",
        "#     optimizer.zero_grad()\n",
        "\n",
        "#     # 역전파 단계: 모델의 매개변수에 대한 손실의 변화도를 계산합니다.\n",
        "#     loss.backward()\n",
        "\n",
        "#     # Optimizer의 step 함수를 호출하면 매개변수가 갱신됩니다.\n",
        "#     optimizer.step()\n"
      ],
      "execution_count": 62,
      "outputs": []
    },
    {
      "cell_type": "code",
      "metadata": {
        "id": "cV2x6ZO9usNd"
      },
      "source": [
        "# # loss 그래프\n",
        "# plt.plot(losses)"
      ],
      "execution_count": 63,
      "outputs": []
    },
    {
      "cell_type": "code",
      "metadata": {
        "colab": {
          "base_uri": "https://localhost:8080/"
        },
        "id": "APpgxlty7VPK",
        "outputId": "df30a5b9-cfce-4f3f-efc6-1f6368abbc6f"
      },
      "source": [
        "# 모델 학습\n",
        "num_epochs = 300\n",
        "loss_list = []\n",
        "models = []\n",
        "for i in range(2): # 서로 다른 custom loss 적용\n",
        "  model, optimizer = define_model()\n",
        "\n",
        "  losses = []\n",
        "  for epoch in range(num_epochs):\n",
        "      # 순전파 단계: 모델에 x를 전달하여 예상되는 y 값을 계산합니다.\n",
        "      y_pred = model(X)\n",
        "\n",
        "      # 손실을 계산하고 출력합니다.\n",
        "      # loss = loss_fn(y_pred, Y)\n",
        "      if i == 0:\n",
        "        loss = my_loss(y_pred, Y)\n",
        "      else:\n",
        "        pdf_tensor = torch.tensor(pdf, dtype=torch.float32)\n",
        "        loss = my_loss2(y_pred, Y, pdf_tensor)\n",
        "      if epoch % 100 == 0:\n",
        "          print(epoch, loss.item())\n",
        "\n",
        "      losses.append(loss.item())\n",
        "      # 역전파 단계 전에, Optimizer 객체를 사용하여 (모델의 학습 가능한 가중치인)\n",
        "      # 갱신할 변수들에 대한 모든 변화도를 0으로 만듭니다. 이렇게 하는 이유는\n",
        "      # 기본적으로 .backward()를 호출할 때마다 변화도가 버퍼(buffer)에 (덮어쓰지 않고)\n",
        "      # 누적되기 때문입니다. 더 자세한 내용은 torch.autograd.backward에 대한 문서를\n",
        "      # 참조하세요.\n",
        "      optimizer.zero_grad()\n",
        "\n",
        "      # 역전파 단계: 모델의 매개변수에 대한 손실의 변화도를 계산합니다.\n",
        "      loss.backward()\n",
        "\n",
        "      # Optimizer의 step 함수를 호출하면 매개변수가 갱신됩니다.\n",
        "      optimizer.step()\n",
        "  loss_list.append(losses)\n",
        "  models.append(model)\n"
      ],
      "execution_count": 68,
      "outputs": [
        {
          "output_type": "stream",
          "text": [
            "0 0.5964686870574951\n",
            "100 0.044876061379909515\n",
            "200 0.04309314861893654\n",
            "0 1.6620497703552246\n",
            "100 0.10855632275342941\n",
            "200 0.1082410216331482\n"
          ],
          "name": "stdout"
        }
      ]
    },
    {
      "cell_type": "code",
      "metadata": {
        "colab": {
          "base_uri": "https://localhost:8080/",
          "height": 282
        },
        "id": "G3sPQSPU7ziG",
        "outputId": "b82dbe06-4efc-4159-aaf9-02854889b9e2"
      },
      "source": [
        "# loss 그래프\n",
        "fig, axes = plt.subplots(1,2)\n",
        "axes[0].plot(loss_list[0])\n",
        "axes[1].plot(loss_list[1])"
      ],
      "execution_count": 69,
      "outputs": [
        {
          "output_type": "execute_result",
          "data": {
            "text/plain": [
              "[<matplotlib.lines.Line2D at 0x7ff1524a4710>]"
            ]
          },
          "metadata": {
            "tags": []
          },
          "execution_count": 69
        },
        {
          "output_type": "display_data",
          "data": {
            "image/png": "[encoded data removed]",
            "text/plain": [
              "<Figure size 432x288 with 2 Axes>"
            ]
          },
          "metadata": {
            "tags": [],
            "needs_background": "light"
          }
        }
      ]
    },
    {
      "cell_type": "code",
      "metadata": {
        "id": "q2ziV_uR7HYK"
      },
      "source": [
        "# # 예측 (직사각형 threshold)\n",
        "# tx, ty = threshold[0], threshold[1]\n",
        "# for i, x, y in zip(range(2), tx, ty):\n",
        "#     if i == 0:\n",
        "#         plt.plot(x, y, color = 'black', label='threshold')\n",
        "#     else:\n",
        "#         plt.plot(x, y, color='black')\n",
        "\n",
        "# model.eval()\n",
        "# pred = model(X[0]).detach().numpy()\n",
        "# plt.plot(freq, labels[0], label='observation')\n",
        "# plt.plot(freq, pred, label='prediction')\n",
        "# plt.legend()"
      ],
      "execution_count": 66,
      "outputs": []
    },
    {
      "cell_type": "code",
      "metadata": {
        "id": "eEBGUtYi8SYd",
        "colab": {
          "base_uri": "https://localhost:8080/",
          "height": 281
        },
        "outputId": "afbd7ed3-f67c-4bc6-db17-8ea68d6b563a"
      },
      "source": [
        "# 예측 (정규분포 기반 threshold)\n",
        "sample = 2\n",
        "tx, ty = threshold\n",
        "fig, axes = plt.subplots(1,2)\n",
        "for i, model in enumerate(models):\n",
        "  axes[i].plot(tx, ty, color = 'black', label='threshold')\n",
        "  model.eval()\n",
        "  pred = model(X[sample]).detach().numpy()\n",
        "  axes[i].plot(freq, labels[sample], label='observation')\n",
        "  axes[i].plot(freq, pred, label='prediction')\n",
        "  axes[i].legend()\n",
        "  if i==0:\n",
        "    axes[i].set_title('my_loss-based model result') # MSE\n",
        "  else:\n",
        "    axes[i].set_title('my_loss2-based model result') # mean(((output - target)**2) + ((output - threshold)**2))"
      ],
      "execution_count": 70,
      "outputs": [
        {
          "output_type": "display_data",
          "data": {
            "image/png": "[encoded data removed]",
            "text/plain": [
              "<Figure size 432x288 with 2 Axes>"
            ]
          },
          "metadata": {
            "tags": [],
            "needs_background": "light"
          }
        }
      ]
    },
    {
      "cell_type": "code",
      "metadata": {
        "id": "eYui84hRn685"
      },
      "source": [
        ""
      ],
      "execution_count": null,
      "outputs": []
    }
  ]
}